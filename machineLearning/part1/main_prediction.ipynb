{
 "cells": [
  {
   "cell_type": "code",
   "execution_count": 61,
   "metadata": {},
   "outputs": [
    {
     "name": "stderr",
     "output_type": "stream",
     "text": [
      "/home/farhaan/miniconda3/envs/py310/lib/python3.10/site-packages/keras/src/saving/saving_lib.py:415: UserWarning: Skipping variable loading for optimizer 'adam', because it has 22 variables whereas the saved optimizer has 2 variables. \n",
      "  saveable.load_own_variables(weights_store.get(inner_path))\n"
     ]
    }
   ],
   "source": [
    "from keras.models import load_model\n",
    "from joblib import load\n",
    "\n",
    "model = load_model('archive/best_lstm_model.keras')\n",
    "scalar_x = load('archive/x_scalar.save')\n",
    "scalar_y = load('archive/y_scalar.save')"
   ]
  },
  {
   "cell_type": "code",
   "execution_count": 62,
   "metadata": {},
   "outputs": [
    {
     "data": {
      "text/plain": [
       "(5, 7)"
      ]
     },
     "execution_count": 62,
     "metadata": {},
     "output_type": "execute_result"
    }
   ],
   "source": [
    "import numpy as np\n",
    "\n",
    "sequence_length = 5\n",
    "testing = False\n",
    "\n",
    "if testing:\n",
    "    print(f\"Give atleast {sequence_length} days of data to help you! (This data will be automatically gathered from the evCharger/smartPlugs)\")\n",
    "    charger_company = int(input(\"Charger Manufacturer [(same as car manufacturer -> 1)/(different manufacturer -> 0)]: \"))\n",
    "    charger_type = int(input(\"Charger Type [(fast -> 1)/(slow -> 0)]: \"))\n",
    "    x = []\n",
    "    for session in range(sequence_length):\n",
    "        temp = []\n",
    "        print(f\"\\nSession {session+1}:-\\n\")\n",
    "        start_hour = int(input(\"Plug In hour [24 hours format (10pm -> 22)]: \"))\n",
    "        start_day_of_week = int(input(\"Day in the week [Sunday -> 0, Saturday -> 6]: \"))\n",
    "        if start_day_of_week in [0, 6]:\n",
    "            is_weekend = 1\n",
    "        else:\n",
    "            is_weekend = 0\n",
    "        duration = int(input(\"Plug In duration [in minutes]: \"))\n",
    "        demand = float(input(\"Plug In power consumption [in Kwh]: \"))\n",
    "        temp.append(charger_company)\n",
    "        temp.append(charger_type)\n",
    "        temp.append(start_hour)\n",
    "        temp.append(start_day_of_week)\n",
    "        temp.append(is_weekend)\n",
    "        temp.append(duration)\n",
    "        temp.append(demand)\n",
    "        x.append(temp)\n",
    "    x = np.array(x)\n",
    "else:\n",
    "    charger_type = 1\n",
    "    x = np.array(\n",
    "        [[1, charger_type, 20, 1, 1, 652, 9.4],\n",
    "        [1, charger_type, 23, 2, 0, 432, 13.2],\n",
    "        [1, charger_type, 17, 3, 0, 863, 7.9],\n",
    "        [1, charger_type, 19, 4, 0, 718, 8.2],\n",
    "        [1, charger_type, 22, 5, 0, 436, 11.3]]\n",
    "    )\n",
    "\n",
    "x.shape\n"
   ]
  },
  {
   "cell_type": "code",
   "execution_count": 63,
   "metadata": {},
   "outputs": [
    {
     "name": "stdout",
     "output_type": "stream",
     "text": [
      "\u001b[1m1/1\u001b[0m \u001b[32m━━━━━━━━━━━━━━━━━━━━\u001b[0m\u001b[37m\u001b[0m \u001b[1m0s\u001b[0m 97ms/step\n",
      "418.93832 16.286726\n"
     ]
    }
   ],
   "source": [
    "x_scaled = scalar_x.transform(x)\n",
    "\n",
    "y_pred = model.predict(x_scaled.reshape(1, sequence_length, x.shape[-1]))\n",
    "pred = scalar_y.inverse_transform(y_pred)\n",
    "pred_duration, pred_demand = pred[0][0], pred[0][1]\n",
    "print(pred_duration, pred_demand)"
   ]
  },
  {
   "cell_type": "code",
   "execution_count": 64,
   "metadata": {},
   "outputs": [
    {
     "name": "stdout",
     "output_type": "stream",
     "text": [
      "71 10.752783964365257 1.1833333333333333 0.17921306607275428\n"
     ]
    }
   ],
   "source": [
    "if testing:\n",
    "    print(\"This data will be automatically gathered from the evCharger/smartPlugs\")\n",
    "    designed_battary_capacity = float(input(\"Designed EV battary capacity [in Kwh]: \"))\n",
    "    available_battary_capacity = float(input(\"Available EV battary capacity [in Kwh]: \"))\n",
    "    designed_range = float(input(\"Designed range of the EV [in Km]: \"))\n",
    "    available_range = float(input(\"Available range of the EV [in Km]: \"))\n",
    "    rate_of_charge_inKm = float(input(\"Rate of increase in range per hour [in Km]: \"))\n",
    "\n",
    "else:\n",
    "    designed_battary_capacity = 68.0\n",
    "    available_battary_capacity = 7.14\n",
    "    designed_range = 449.0\n",
    "    available_range = 47.145\n",
    "    if charger_type:\n",
    "        rate_of_charge_in_Km = 71\n",
    "    else:\n",
    "        rate_of_charge_in_Km = 4.8\n",
    "rate_of_charge_in_Kwh = rate_of_charge_in_Km / (designed_range / designed_battary_capacity)\n",
    "rate_of_charge_in_Km_per_min = rate_of_charge_in_Km / 60\n",
    "rate_of_charge_in_Kw_per_min = rate_of_charge_in_Kwh / 60\n",
    "\n",
    "print(rate_of_charge_in_Km, rate_of_charge_in_Kwh, rate_of_charge_in_Km_per_min, rate_of_charge_in_Kw_per_min)\n",
    "    "
   ]
  },
  {
   "cell_type": "markdown",
   "metadata": {},
   "source": [
    "![Time of Use (Ontario)](time-of-use.png)"
   ]
  },
  {
   "cell_type": "code",
   "execution_count": 65,
   "metadata": {},
   "outputs": [],
   "source": [
    "from datetime import datetime, timedelta\n",
    "\n",
    "weekend_pricing = {\n",
    "    \"winter\": \"off-peak\",\n",
    "    \"summer\": \"off-peak\"\n",
    "}\n",
    "time_of_use = {\n",
    "    \"winter\": {\n",
    "        \"off-peak\": {\n",
    "            \"cost\": 8.7,\n",
    "            \"time-period\": [19, 24, 0, 7]\n",
    "        },\n",
    "        \"mid-peak\": {\n",
    "            \"cost\": 12.2,\n",
    "            \"time-period\": [11, 17]\n",
    "        },\n",
    "        \"on-peak\": {\n",
    "            \"cost\": 18.2,\n",
    "            \"time-period\": [7, 11, 17, 19]\n",
    "        }\n",
    "    },\n",
    "    \"summer\": {\n",
    "        \"off-peak\": {\n",
    "            \"cost\": 8.7,\n",
    "            \"time-period\": [19, 24, 0, 7]\n",
    "        },\n",
    "        \"mid-peak\": {\n",
    "            \"cost\": 12.2,\n",
    "            \"time-period\": [7, 11, 17, 19]\n",
    "        },\n",
    "        \"on-peak\": {\n",
    "            \"cost\": 18.2,\n",
    "            \"time-period\": [11, 17]\n",
    "        }\n",
    "    }\n",
    "}\n",
    "\n",
    "def time_of_use_to_minutes(time_of_use):\n",
    "    for season in time_of_use:\n",
    "        for peak_type in time_of_use[season]:\n",
    "            time_of_use[season][peak_type][\"time-period\"] = [hour * 60 for hour in time_of_use[season][peak_type][\"time-period\"]]\n",
    "    return time_of_use\n",
    "\n",
    "if testing:\n",
    "    plugin_datetime = input(\"Plugin Date & Time [in (yyyy-mm-dd:hh:mm) (24hrs)]: \")\n",
    "else:\n",
    "    plugin_datetime = \"2024-08-30:17:20\"\n",
    "\n",
    "date_format = \"%Y-%m-%d:%H:%M\"\n",
    "date_obj = datetime.strptime(plugin_datetime, date_format)\n",
    "\n",
    "time_of_use = time_of_use_to_minutes(time_of_use)\n",
    "plugin_time = date_obj.hour * 60 + date_obj.minute\n",
    "plugin_season = \"summer\" if date_obj.month in range(5, 11) else \"winter\"\n",
    "is_weekend = date_obj.weekday() >= 5"
   ]
  },
  {
   "cell_type": "code",
   "execution_count": 66,
   "metadata": {},
   "outputs": [
    {
     "name": "stdout",
     "output_type": "stream",
     "text": [
      "{'slot-1': [[1040, 1140], 12.2], 'slot-2': [[1140, 1440], 8.7], 'slot-3': [[0, 19], 8.7]}\n"
     ]
    }
   ],
   "source": [
    "from math import ceil\n",
    "\n",
    "def automatic_slot_finder(time_of_use, plugin_time, plugin_season, pred_duration, is_weekend, date_obj):\n",
    "    time_slot = {}\n",
    "    while True:\n",
    "        for peak_type in time_of_use[plugin_season]:\n",
    "            time_period = time_of_use[plugin_season][peak_type][\"time-period\"]\n",
    "            cost = time_of_use[plugin_season][peak_type][\"cost\"]\n",
    "            for start_minute, end_minute in zip(time_period[::2], time_period[1::2]):\n",
    "                if start_minute <= plugin_time <= end_minute:\n",
    "                    slot_duration = end_minute - plugin_time\n",
    "                    actual_duration = min(slot_duration, ceil(pred_duration))\n",
    "                    if is_weekend:\n",
    "                        cost = time_of_use[plugin_season][weekend_pricing[plugin_season]]['cost']\n",
    "                    time_slot[f\"slot-{len(time_slot)+1}\"] = [[plugin_time, plugin_time + actual_duration], cost]\n",
    "                    pred_duration -= actual_duration\n",
    "                    plugin_time += actual_duration\n",
    "                    if pred_duration <= 0:\n",
    "                        return time_slot\n",
    "                    if plugin_time == 24 * 60:\n",
    "                        plugin_time = 0\n",
    "                        date_obj += timedelta(days=1)\n",
    "                        is_weekend = date_obj.weekday() >= 5\n",
    "            \n",
    "time_slot = automatic_slot_finder(time_of_use, plugin_time, plugin_season, pred_duration, is_weekend, date_obj)\n",
    "print(time_slot)"
   ]
  },
  {
   "cell_type": "code",
   "execution_count": 67,
   "metadata": {},
   "outputs": [],
   "source": [
    "def schedular_helper(time_slot, time_from_pred_demand, is_minimum_range=False, og_time_slot=None):\n",
    "    final_time_slot = {}\n",
    "    final_cost = 0\n",
    "    remaining_time_slot = time_slot\n",
    "    if is_minimum_range:\n",
    "        time_slot = og_time_slot\n",
    "    for slot, (time_period, cost) in time_slot.items():\n",
    "        start_minute, end_minute = time_period\n",
    "        tot_time_in_slot = end_minute - start_minute\n",
    "        actual_time = min(tot_time_in_slot, time_from_pred_demand)\n",
    "        time_key = slot+\"-e\" if is_minimum_range else slot\n",
    "        final_time_slot[time_key] = [start_minute, start_minute + actual_time]\n",
    "        final_cost += (cost / 60) * actual_time\n",
    "        time_from_pred_demand -= actual_time\n",
    "        if is_minimum_range:\n",
    "            remaining_time_slot.pop(slot)\n",
    "        if time_from_pred_demand <= 0:\n",
    "            if is_minimum_range:\n",
    "                remaining_time_slot[slot] = [[start_minute + actual_time, end_minute], cost]\n",
    "                return final_time_slot, final_cost, remaining_time_slot\n",
    "            return final_time_slot, final_cost\n",
    "\n",
    "def automatic_schedular(time_slot, pred_demand, rate_of_charge_in_Km_per_min, rate_of_charge_in_Kw_per_min, designed_battary_capacity, available_battary_capacity, designed_range, available_range, minimum_required_range=100):\n",
    "    sorted_time_slot = dict(sorted(time_slot.items(), key=lambda item: item[1][1]))\n",
    "    time_from_pred_demand = ceil(pred_demand / rate_of_charge_in_Kw_per_min)\n",
    "    distance_from_pred_demand = ceil(time_from_pred_demand * rate_of_charge_in_Km_per_min)\n",
    "    og_pred_demand = pred_demand\n",
    "    og_distance_from_pred_demand = distance_from_pred_demand\n",
    "    og_time_slot = time_slot\n",
    "    notes = \"\"\n",
    "    if pred_demand > (designed_battary_capacity - available_battary_capacity) or distance_from_pred_demand > (designed_range - available_range):\n",
    "        pred_demand = designed_battary_capacity - available_battary_capacity\n",
    "        distance_from_pred_demand = designed_range - available_range\n",
    "        time_from_pred_demand = ceil(pred_demand / rate_of_charge_in_Kw_per_min)\n",
    "        distance_from_pred_demand = ceil(time_from_pred_demand * rate_of_charge_in_Km_per_min)\n",
    "        final_time_slot_sorted, final_cost_sorted = schedular_helper(sorted_time_slot, time_from_pred_demand)\n",
    "        notes = f\"Even though the model predicted the required demand of:{og_pred_demand} [in Kwh] and distance of:{og_distance_from_pred_demand} [in Km] from your past changing pattern, due to the avilable energy in the battery, the demand and the distance is changed as {pred_demand} [in Kwh] and {distance_from_pred_demand} [in Km] respectivily\"\n",
    "    elif available_range < minimum_required_range:\n",
    "        minimum_required_duration = ceil((minimum_required_range - available_range) / rate_of_charge_in_Km_per_min)\n",
    "        minimum_time_slot_sorted, minimum_cost_sorted, sorted_time_slot = schedular_helper(sorted_time_slot, minimum_required_duration, is_minimum_range = True, og_time_slot=time_slot)\n",
    "        remaining_time_from_pred_demand = time_from_pred_demand  - minimum_required_duration\n",
    "        remaining_time_slot_sorted, remaining_cost_sorted = schedular_helper(sorted_time_slot, remaining_time_from_pred_demand)\n",
    "        final_cost_sorted = minimum_cost_sorted + remaining_cost_sorted\n",
    "        final_time_slot_sorted = minimum_time_slot_sorted | remaining_time_slot_sorted\n",
    "        notes = f\"Since the battery range is below {minimum_required_range} Km, the EV is charged for {minimum_required_duration} minutes to have the minimum emergency energy and after that the optimization starts\"\n",
    "    else:\n",
    "        final_time_slot_sorted, final_cost_sorted = schedular_helper(sorted_time_slot, time_from_pred_demand)\n",
    "        notes = \"The battery is charged in an optimal way\"\n",
    "\n",
    "    final_time_slot, final_cost = schedular_helper(og_time_slot, time_from_pred_demand)\n",
    "    return notes, time_from_pred_demand, distance_from_pred_demand, final_time_slot, final_cost, final_time_slot_sorted, final_cost_sorted\n"
   ]
  },
  {
   "cell_type": "code",
   "execution_count": 68,
   "metadata": {},
   "outputs": [
    {
     "name": "stdout",
     "output_type": "stream",
     "text": [
      "Notes: Since the battery range is below 100 Km, the EV is charged for 45 minutes to have the minimum emergency energy and after that the optimization starts\n",
      "predicted plugIn duration [in Minutes]: 418.9383239746094 and predicted demand [in Kwh]: 16.286725997924805\n",
      "Time slot without optimization [in Minutes]: {'slot-1': [1040, 1131]} and its cost $0.1850333333333333\n",
      "Time slot with optimization [in Minutes]: {'slot-1-e': [1040, 1085], 'slot-2': [1140, 1186]} and its cost $0.15819999999999998\n",
      "predicted charging time [in Minutes]: 91 and predicted charging distance [in Km]: 108\n",
      "Total savings in this chsrging session: 0.026833333333333317\n"
     ]
    }
   ],
   "source": [
    "notes, time_from_pred_demand, distance_from_pred_demand, final_time_slot, final_cost, final_time_slot_sorted, final_cost_sorted = automatic_schedular(\n",
    "    time_slot, pred_demand, rate_of_charge_in_Km_per_min, rate_of_charge_in_Kw_per_min, designed_battary_capacity, \n",
    "    available_battary_capacity, designed_range, available_range, minimum_required_range=100)\n",
    "print(f\"Notes: {notes}\")\n",
    "print(f\"predicted plugIn duration [in Minutes]: {pred_duration} and predicted demand [in Kwh]: {pred_demand}\")\n",
    "print(f\"Time slot without optimization [in Minutes]: {final_time_slot} and its cost ${final_cost/100}\")\n",
    "print(f\"Time slot with optimization [in Minutes]: {final_time_slot_sorted} and its cost ${final_cost_sorted/100}\")\n",
    "print(f\"predicted charging time [in Minutes]: {time_from_pred_demand} and predicted charging distance [in Km]: {distance_from_pred_demand}\")\n",
    "print(f\"Total savings in this charging session: {(final_cost - final_cost_sorted)/100}\")"
   ]
  }
 ],
 "metadata": {
  "kernelspec": {
   "display_name": "py310",
   "language": "python",
   "name": "python3"
  },
  "language_info": {
   "codemirror_mode": {
    "name": "ipython",
    "version": 3
   },
   "file_extension": ".py",
   "mimetype": "text/x-python",
   "name": "python",
   "nbconvert_exporter": "python",
   "pygments_lexer": "ipython3",
   "version": "3.10.14"
  }
 },
 "nbformat": 4,
 "nbformat_minor": 2
}
